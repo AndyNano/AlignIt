{
 "cells": [
  {
   "cell_type": "markdown",
   "metadata": {},
   "source": [
    "<h1><center>Welcome to AlignIt</center></h1>\n",
    "\n",
    "Use this script to calculate symmetry deviation values, $\\sigma _{ideal}$, between polyhedra with the same number of atoms. \n",
    "\n",
    "We use the formula:\n",
    "\n",
    "<center> $S(G)= \\sum_{k=1}^{N}{\\frac{\\left |Q_{k} - P_{k}\\right |^{2}}{\\left |Q_{k} - Q_{0}\\right |^{2}}\\cdot \\frac{100}{N}}$ </center>\n",
    "\n",
    "Where Q and P is the two structures, k is each atom in the structure, N is the total number of atoms and $Q_{0}$ is the center of mass of structure Q.\n",
    "\n",
    "$(Q_{k} - Q_{0})^{2} $ normalises with the size of the structure, while $1 / N$ normalise with the number of atoms in the structure.\n",
    "\n",
    "\n",
    "\n",
    "<h4><center> The formula is adapted from the following papers </center></h4>\n",
    "\n",
    "Alvarez S., et al., Continuous symmetry maps and shape classification. The case of six-coordinated metal compounds, _New J. Chem._, <b>2002</b>, 26(8), 996-1009\n",
    "\n",
    "Alvarez S., et al., Shape maps and polyhedral interconversion paths in transition metal chemistry, _Coordination Chemistry Reviews_, <b>2005</b>, 249(17-18), 1693-1708\n",
    "\n",
    "Ruiz-Marínez A. & Alvarez S., Stereochemistry of Compounds with Coordination Number Ten, _Chemistry_, <b>2009</b>, 15(30), 7470-80\n",
    "\n",
    "\n",
    "<h4><center> How to use AlignIt </center></h4>\n",
    "A guide to calculating symmetry deviations values with AlignIt is found in Supporting Information of (reference to paper – in progress).\n",
    "\n",
    "AlignIt uses manual alignment of atoms, bond length scaling and rotational optimization to calculate symmetry deviation values. For the latter, Mercury is used to overlay structures. The program is available for download at https://www.ccdc.cam.ac.uk/support-and-resources/Downloads/\n",
    "\n",
    "Alternatively, Continuous Shape Measurement values can be calculated with SHAPE.  The program is available for download at http://www.ee.ub.edu/index.php?option=com_jdownloads&view=viewcategories&Itemid=529"
   ]
  },
  {
   "cell_type": "markdown",
   "metadata": {},
   "source": [
    "<h2><center> Calculation of $\\sigma _{ideal}$ in hand to validate the algorithm </center></h2>\n",
    "\n",
    "Here we do not apply any optimization first. The structures are therefore:\n",
    "\n",
    "Perfect structure:                                     \n",
    "O1   0.00000   0.00000   2.63500                             \n",
    "O2   2.28200   0.00000   -1.3175                           \n",
    "O3   -2.28200   0.00000   -1.3175                        \n",
    "\n",
    "Disordered structure:                          \n",
    "O1 0.      0.      2.635                  \n",
    "O2 2.282   0.     -1.3175                \n",
    "O3 -2.0517  0.5    -1.3 "
   ]
  },
  {
   "cell_type": "markdown",
   "metadata": {},
   "source": [
    "$S(G) = \\frac{(-2.282+2.0517)^{2}+(0-0.5)^{2}+(-1.3175-1.3)^{2}}{(-2.282-0)^{2}+(0-0)^{2}+(-1.3175-0)^{2}}\\cdot \\frac{100}{3}=1.45629 $"
   ]
  },
  {
   "cell_type": "markdown",
   "metadata": {},
   "source": [
    "This gives the same results as using AlignIt on the non optimized structures:\n",
    "\n",
    "    perfect_structure, disordered_structure = load_xyz(perfect_structure_name, disordered_structure_name, scaling, center_origo=False)\n",
    "\n",
    "    𝜎 = symmetry_deviation_calculator(perfect_structure, disordered_structure)"
   ]
  }
 ],
 "metadata": {
  "kernelspec": {
   "display_name": "Python 3",
   "language": "python",
   "name": "python3"
  },
  "language_info": {
   "codemirror_mode": {
    "name": "ipython",
    "version": 3
   },
   "file_extension": ".py",
   "mimetype": "text/x-python",
   "name": "python",
   "nbconvert_exporter": "python",
   "pygments_lexer": "ipython3",
   "version": "3.7.9"
  }
 },
 "nbformat": 4,
 "nbformat_minor": 4
}
