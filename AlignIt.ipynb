{
 "cells": [
  {
   "cell_type": "markdown",
   "metadata": {},
   "source": [
    "<h1><center> Welcome to AlignIt </center></h1>\n",
    "\n",
    "Use this script to calculate symmetry deviation values, $\\sigma _{ideal}$, between polyhedra with the same number of atoms. \n",
    "\n",
    "We use the formula:\n",
    "\n",
    "<center> $S(G)=\\frac{\\sum_{k=1}^{N}{\\left |Q_{k} - P_{k}\\right |^{2}}}{\\sum_{k=1}^{N}\\left |Q_{k} - Q_{0}\\right |^{2}}\\cdot \\frac{100}{N}$ </center>\n",
    "\n",
    "Where Q and P is the two structures, k is each atom in the structure, N is the total number of atoms and $Q_{0}$ is zero point placed in origo of structure Q.\n",
    "\n",
    "$(Q_{k} - Q_{0})^{2} $ normalises with the size of the structure, while $1 / N$ normalise with the number of atoms in the structure.\n",
    "\n",
    "\n",
    "\n",
    "<h4><center> The formula is adapted from the following papers </center></h4>\n",
    "\n",
    "Alvarez S., et al., Continuous symmetry maps and shape classification. The case of six-coordinated metal compounds, _New J. Chem._, <b>2002</b>, 26(8), 996-1009\n",
    "\n",
    "Alvarez S., et al., Shape maps and polyhedral interconversion paths in transition metal chemistry, _Coordination Chemistry Reviews_, <b>2005</b>, 249(17-18), 1693-1708\n",
    "\n",
    "Ruiz-Marínez A. & Alvarez S., Stereochemistry of Compounds with Coordination Number Ten, _Chemistry_, <b>2009</b>, 15(30), 7470-80\n",
    "\n",
    "\n",
    "<h4><center> How to use AlignIt </center></h4>\n",
    "A guide to calculating symmetry deviations values with AlignIt is found in Supporting Information of (reference to paper – in progress).\n",
    "\n",
    "AlignIt uses manual alignment of atoms, bond length scaling and rotational optimization to calculate symmetry deviation values. For the latter, Mercury is used to overlay structures. The program is available for download at https://www.ccdc.cam.ac.uk/support-and-resources/Downloads/\n",
    "\n",
    "Alternatively, Continuous Shape Measurement values can be calculated with SHAPE.  The program is available for download at http://www.ee.ub.edu/index.php?option=com_jdownloads&view=viewcategories&Itemid=529"
   ]
  },
  {
   "cell_type": "markdown",
   "metadata": {},
   "source": [
    "<h2><center> Loading modules and $\\sigma _{ideal}$ formula </center></h2>"
   ]
  },
  {
   "cell_type": "code",
   "execution_count": 1,
   "metadata": {},
   "outputs": [],
   "source": [
    "import numpy as np\n",
    "import pandas as pd\n",
    "import os\n",
    "\n",
    "def load_xyz(ideel_structure_name, disordered_structure_name, scaling, center_origo=True):\n",
    "    \"\"\"\n",
    "    Load two XYZ files and center them around origo, scale them and output a np.array of the scaled coordinates.\n",
    "    \"\"\"\n",
    "    ideel_structure = pd.read_csv(ideel_structure_name, skiprows=2, sep=\" \", names=[\"atom\", \"x\", \"y\", \"z\"])\n",
    "    ideel_structure = np.concatenate((np.expand_dims((ideel_structure.x.values), axis=1), np.expand_dims((ideel_structure.y.values), axis=1), np.expand_dims((ideel_structure.z.values), axis=1)), axis=1)\n",
    "    disordered_structure = pd.read_csv(disordered_structure_name, skiprows=2, sep=\" \", names=[\"atom\", \"x\", \"y\", \"z\"])\n",
    "    print (disordered_structure)\n",
    "    disordered_structure = np.concatenate((np.expand_dims((disordered_structure.x.values), axis=1), np.expand_dims((disordered_structure.y.values), axis=1), np.expand_dims((disordered_structure.z.values), axis=1)), axis=1)\n",
    "    print (disordered_structure)\n",
    "    \n",
    "    # Center structure around origo\n",
    "    if center_origo:\n",
    "        ideel_structure[:,0] = ideel_structure[:,0] - ideel_structure[:,0].mean()\n",
    "        ideel_structure[:,1] = ideel_structure[:,1] - ideel_structure[:,1].mean()\n",
    "        ideel_structure[:,2] = ideel_structure[:,2] - ideel_structure[:,2].mean()\n",
    "        disordered_structure[:,0] = disordered_structure[:,0] - disordered_structure[:,0].mean()\n",
    "        disordered_structure[:,1] = disordered_structure[:,1] - disordered_structure[:,1].mean()\n",
    "        disordered_structure[:,2] = disordered_structure[:,2] - disordered_structure[:,2].mean()\n",
    "\n",
    "    # Scale structure\n",
    "    disordered_structure *= scaling\n",
    "    \n",
    "    print (\"ideel structure after centering:\")\n",
    "    print (ideel_structure)\n",
    "    print (\"Disordered structure after centering and scaling:\")\n",
    "    print (disordered_structure)\n",
    "\n",
    "    return ideel_structure, disordered_structure\n",
    "\n",
    "def symmetry_deviation_calculator(ideel_structure, disordered_structure):\n",
    "    \"\"\"\n",
    "    Calculate symmetry deviation (𝜎) for two structures with equal amount of atoms.\n",
    "    The 𝜎 is a number from 0 to 100, where 0 is completelly symmetric.\n",
    "    This formula has been used from the papers:\n",
    "    - Continuous symmetry maps and shape classification. The case of six-coordinated metal compounds\n",
    "    - Shape maps and polyhedral interconversion paths in transition metal chemistry\n",
    "    - Stereochemistry of Compounds with Coordination Number Ten\n",
    "\n",
    "    The function needs two structure which is already aligned e.g. atom1 has to be the first atom in the list for both, atom2 has to be number 2 etc.\n",
    "    The alignment can be done in mercury with the use of the overlay function.\n",
    "    \"\"\"\n",
    "    \n",
    "    dist = 0.0\n",
    "    for atom in range(len(ideel_structure)):\n",
    "        upper = np.linalg.norm(ideel_structure[atom] - disordered_structure[atom])**2\n",
    "        lower = np.linalg.norm(ideel_structure[atom] - np.mean(ideel_structure.T, axis=1))**2\n",
    "        together = upper/lower\n",
    "        dist += together\n",
    "\n",
    "    print (\"𝜎 value: \")\n",
    "    print (100 * dist / len(ideel_structure))\n",
    "    return 100 * dist / len(ideel_structure)\n",
    "\n",
    "def save_results(ideel_structure_name, disordered_structure_name, scaling, ideel_structure, disordered_structure, sigma, center_origo=\"True\"):\n",
    "    \"\"\"\n",
    "    Save results in folder --> Results_AlignIt\n",
    "    \"\"\"\n",
    "    savePath = 'Results_AlignIt/'\n",
    "    if not os.path.isdir(savePath): \n",
    "        os.mkdir(savePath)\n",
    "        \n",
    "    file = open(savePath+ideel_structure_name[:-4]+\"_AND_\"+disordered_structure_name[:-4]+\".txt\", 'w')\n",
    "    file.write(\"Scaling = \")\n",
    "    file.write(str(scaling) + \"\\n\")\n",
    "    file.write(\"Center origo = \")\n",
    "    file.write(str(center_origo) + \"\\n\")\n",
    "    file.write((\"Ideel structure:\") + \"\\n\")\n",
    "    file.write(str(ideel_structure) + \"\\n\")\n",
    "    file.write((\"Disordered structure:\") + \"\\n\")\n",
    "    file.write(str(disordered_structure) + \"\\n\")\n",
    "    file.write(\"Symmetry deviation (sigma) value = \")\n",
    "    file.write(str(sigma))\n",
    "    file.close()\n",
    "    \n",
    "    return None\n"
   ]
  },
  {
   "cell_type": "markdown",
   "metadata": {},
   "source": [
    "<h2><center> Define which structures $\\sigma _{ideal}$ should be calculated on </center></h2>"
   ]
  },
  {
   "cell_type": "code",
   "execution_count": 2,
   "metadata": {},
   "outputs": [],
   "source": [
    "ideel_structure_name = \"triangle_symmetric.xyz\"\n",
    "disordered_structure_name = \"triangle_disorder.xyz\"\n",
    "scaling = 1"
   ]
  },
  {
   "cell_type": "code",
   "execution_count": 5,
   "metadata": {},
   "outputs": [
    {
     "name": "stdout",
     "output_type": "stream",
     "text": [
      "  atom       x    y       z\n",
      "0   O1  0.0000  0.0  2.6350\n",
      "1   O2  2.2820  0.0 -1.3175\n",
      "2   O3 -2.0517  0.5 -1.3000\n",
      "[[ 0.      0.      2.635 ]\n",
      " [ 2.282   0.     -1.3175]\n",
      " [-2.0517  0.5    -1.3   ]]\n",
      "ideel structure after centering:\n",
      "[[ 0.      0.      2.635 ]\n",
      " [ 2.282   0.     -1.3175]\n",
      " [-2.282   0.     -1.3175]]\n",
      "Disordered structure after centering and scaling:\n",
      "[[-0.07676667 -0.16666667  2.62916667]\n",
      " [ 2.20523333 -0.16666667 -1.32333333]\n",
      " [-2.12846667  0.33333333 -1.30583333]]\n",
      "𝜎 value: \n",
      "0.9708601091029601\n"
     ]
    }
   ],
   "source": [
    "ideel_structure, disordered_structure = load_xyz(ideel_structure_name, disordered_structure_name, scaling)\n",
    "𝜎 = symmetry_deviation_calculator(ideel_structure, disordered_structure)"
   ]
  },
  {
   "cell_type": "markdown",
   "metadata": {},
   "source": [
    "<h2><center> Save results </center></h2>"
   ]
  },
  {
   "cell_type": "code",
   "execution_count": 6,
   "metadata": {},
   "outputs": [],
   "source": [
    "save_results(ideel_structure_name, disordered_structure_name, scaling, ideel_structure, disordered_structure, sigma=𝜎, center_origo=\"True\")\n"
   ]
  },
  {
   "cell_type": "code",
   "execution_count": null,
   "metadata": {},
   "outputs": [],
   "source": []
  }
 ],
 "metadata": {
  "kernelspec": {
   "display_name": "Python 3 (ipykernel)",
   "language": "python",
   "name": "python3"
  },
  "language_info": {
   "codemirror_mode": {
    "name": "ipython",
    "version": 3
   },
   "file_extension": ".py",
   "mimetype": "text/x-python",
   "name": "python",
   "nbconvert_exporter": "python",
   "pygments_lexer": "ipython3",
   "version": "3.8.5"
  }
 },
 "nbformat": 4,
 "nbformat_minor": 4
}
